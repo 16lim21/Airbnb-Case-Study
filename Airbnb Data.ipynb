{
 "cells": [
  {
   "cell_type": "markdown",
   "metadata": {},
   "source": [
    "Run the cells below to load the data into a database file that can be operated on with SQL"
   ]
  },
  {
   "cell_type": "code",
   "execution_count": 2,
   "metadata": {},
   "outputs": [
    {
     "data": {
      "text/plain": [
       "'Connected: @Data/airbnb.db'"
      ]
     },
     "execution_count": 2,
     "metadata": {},
     "output_type": "execute_result"
    }
   ],
   "source": [
    "%load_ext sql\n",
    "%sql sqlite:///Data/airbnb.db"
   ]
  },
  {
   "cell_type": "code",
   "execution_count": 6,
   "metadata": {},
   "outputs": [],
   "source": [
    "import pandas as pd\n",
    "import os\n",
    "\n",
    "def load_csv_to_df(fn):\n",
    "    \n",
    "    with open(fn) as data_file:\n",
    "        df = pd.read_csv(fn)\n",
    "        print(\"Loaded data frame. \")\n",
    "        return df"
   ]
  },
  {
   "cell_type": "code",
   "execution_count": 7,
   "metadata": {},
   "outputs": [
    {
     "name": "stdout",
     "output_type": "stream",
     "text": [
      "Loaded data frame. \n",
      "Loaded file Calendar\n"
     ]
    },
    {
     "name": "stderr",
     "output_type": "stream",
     "text": [
      "/Users/mli/opt/anaconda3/lib/python3.7/site-packages/IPython/core/interactiveshell.py:3249: DtypeWarning: Columns (61,62,94,95) have mixed types. Specify dtype option on import or set low_memory=False.\n",
      "  if (await self.run_code(code, result,  async_=asy)):\n"
     ]
    },
    {
     "name": "stdout",
     "output_type": "stream",
     "text": [
      "Loaded data frame. \n",
      "Loaded file detailedListings\n",
      "Loaded data frame. \n",
      "Loaded file detailedReviews\n",
      "Loaded data frame. \n",
      "Loaded file reviews\n",
      "Loaded data frame. \n",
      "Loaded file listings\n",
      "Loaded data frame. \n",
      "Loaded file neighbourhoods\n"
     ]
    }
   ],
   "source": [
    "csv_files = ['detailedListings', 'detailedReviews', 'neighbourhoods']\n",
    "dfs = {}\n",
    "\n",
    "for f in csv_files:\n",
    "    fn = \"./Data/\" + f + \".csv\"\n",
    "    dfs[f] = load_csv_to_df(fn)\n",
    "    print(\"Loaded file \" + f) \n",
    "\n",
    "dfs['detailedListings'] = dfs['detailedListings'].drop(columns=\n",
    "                                                       ['amenities', 'host_picture_url', 'host_thumbnail_url', \n",
    "                                                        'host_about', 'host_url','picture_url', 'house_rules', \n",
    "                                                        'interaction', 'access', 'transit', 'notes',\n",
    "                                                        'neighborhood_overview', 'experiences_offered', \n",
    "                                                        'description', 'space', 'summary'])"
   ]
  },
  {
   "cell_type": "code",
   "execution_count": 9,
   "metadata": {},
   "outputs": [
    {
     "name": "stdout",
     "output_type": "stream",
     "text": [
      " * sqlite:///Data/airbnb.db\n",
      "Done.\n",
      "Done.\n",
      "Done.\n",
      "Done.\n",
      "Done.\n",
      "Done.\n"
     ]
    },
    {
     "data": {
      "text/plain": [
       "[]"
      ]
     },
     "execution_count": 9,
     "metadata": {},
     "output_type": "execute_result"
    }
   ],
   "source": [
    "%%sql\n",
    "drop table if exists Calendar;\n",
    "drop table if exists detailedListings;\n",
    "drop table if exists detailedReviews;\n",
    "drop table if exists reviews;\n",
    "drop table if exists listings;\n",
    "drop table if exists neighbourhoods;"
   ]
  },
  {
   "cell_type": "code",
   "execution_count": 10,
   "metadata": {},
   "outputs": [
    {
     "name": "stdout",
     "output_type": "stream",
     "text": [
      "Created and loaded table =  Calendar\n",
      "Created and loaded table =  detailedListings\n",
      "Created and loaded table =  detailedReviews\n",
      "Created and loaded table =  reviews\n",
      "Created and loaded table =  listings\n",
      "Created and loaded table =  neighbourhoods\n"
     ]
    }
   ],
   "source": [
    "import sqlite3\n",
    "conn = sqlite3.connect('./Data/airbnb.db')\n",
    "\n",
    "for k,v in dfs.items():\n",
    "    if 'id' in v or 'index' in v: \n",
    "        v.to_sql(name = k, con=conn, if_exists='append', index_label=None)\n",
    "        print(\"Created and loaded table = \", k)\n",
    "    else:\n",
    "        v.to_sql(name = k, con=conn, if_exists='append', index_label='id')\n",
    "        print(\"Created and loaded table = \", k)"
   ]
  },
  {
   "cell_type": "code",
   "execution_count": 57,
   "metadata": {},
   "outputs": [
    {
     "name": "stdout",
     "output_type": "stream",
     "text": [
      " * sqlite:///Data/airbnb.db\n",
      "Done.\n"
     ]
    },
    {
     "data": {
      "text/plain": [
       "[]"
      ]
     },
     "execution_count": 57,
     "metadata": {},
     "output_type": "execute_result"
    }
   ],
   "source": [
    "%%sql\n",
    "CREATE TABLE ListingsAndReviews as\n",
    "select listing_id, review_date, comments, name, neighbourhood, neighbourhood_cleansed as accurate_neighbourhood, \n",
    "zipcode, property_type, room_type, bathrooms, beds, accommodates, price, number_of_reviews, number_of_reviews_ltm, \n",
    "review_scores_rating, review_scores_location, reviews_per_month\n",
    "from\n",
    "(select listing_id, date as review_date, comments from detailedReviews) dr JOIN\n",
    "detailedListings as dl\n",
    "ON dl.id = dr.listing_id;"
   ]
  },
  {
   "cell_type": "markdown",
   "metadata": {},
   "source": [
    "Cells below are just used to test what tables might look like"
   ]
  },
  {
   "cell_type": "code",
   "execution_count": 2,
   "metadata": {},
   "outputs": [
    {
     "name": "stdout",
     "output_type": "stream",
     "text": [
      " * sqlite:///Data/airbnb.db\n",
      "Done.\n"
     ]
    },
    {
     "data": {
      "text/html": [
       "<table>\n",
       "    <tr>\n",
       "        <th>listing_id</th>\n",
       "        <th>review_date</th>\n",
       "        <th>comments</th>\n",
       "        <th>name</th>\n",
       "        <th>neighbourhood</th>\n",
       "        <th>accurate_neighbourhood</th>\n",
       "        <th>zipcode</th>\n",
       "        <th>property_type</th>\n",
       "        <th>room_type</th>\n",
       "        <th>bathrooms</th>\n",
       "        <th>beds</th>\n",
       "        <th>accommodates</th>\n",
       "        <th>price</th>\n",
       "        <th>number_of_reviews</th>\n",
       "        <th>number_of_reviews_ltm</th>\n",
       "        <th>review_scores_rating</th>\n",
       "        <th>review_scores_location</th>\n",
       "        <th>reviews_per_month</th>\n",
       "    </tr>\n",
       "    <tr>\n",
       "        <td>182177</td>\n",
       "        <td>2011-09-04</td>\n",
       "        <td>This was my first time using airbnb and it was awesome.  Christian and his family are very accomodating and they responded quickly whenever my or I had a question.  The area was nice, quiet, and transportation was easily accessible.  The house had all the major necessites you would expect it to have.  Would definitely stay there again! </td>\n",
       "        <td>A PRIVATE FLAT / APARTMENT- $SPECIAL$</td>\n",
       "        <td>Baychester</td>\n",
       "        <td>Allerton</td>\n",
       "        <td>10469</td>\n",
       "        <td>Guest suite</td>\n",
       "        <td>Entire home/apt</td>\n",
       "        <td>1.0</td>\n",
       "        <td>2.0</td>\n",
       "        <td>8</td>\n",
       "        <td>$125.00</td>\n",
       "        <td>295</td>\n",
       "        <td>35</td>\n",
       "        <td>93.0</td>\n",
       "        <td>10.0</td>\n",
       "        <td>2.93</td>\n",
       "    </tr>\n",
       "    <tr>\n",
       "        <td>182177</td>\n",
       "        <td>2011-09-05</td>\n",
       "        <td>Hey! This place is great! Easy to find and get to - better price and facilities than absolutely everything a reasonable  person can find in Manhatten. And a very generous host in Christian. I&#x27;d recommend this place to anyone! </td>\n",
       "        <td>A PRIVATE FLAT / APARTMENT- $SPECIAL$</td>\n",
       "        <td>Baychester</td>\n",
       "        <td>Allerton</td>\n",
       "        <td>10469</td>\n",
       "        <td>Guest suite</td>\n",
       "        <td>Entire home/apt</td>\n",
       "        <td>1.0</td>\n",
       "        <td>2.0</td>\n",
       "        <td>8</td>\n",
       "        <td>$125.00</td>\n",
       "        <td>295</td>\n",
       "        <td>35</td>\n",
       "        <td>93.0</td>\n",
       "        <td>10.0</td>\n",
       "        <td>2.93</td>\n",
       "    </tr>\n",
       "    <tr>\n",
       "        <td>182177</td>\n",
       "        <td>2011-09-12</td>\n",
       "        <td>Our experience with Christian was wonderful.  He and his family were very accomodating.  The apartment was wonderful, perfect for a small family and would work well for a group of friends too.  Parking is excellent and the backyard is a special treat.  The house was just as it is pictured, very fresh and clean.  The neigborhood is fantastic, whether you want Chinese, Italian or simply some milk- all of it is within 2 minutes walking.  My only concern about leaving this review is that this apartment will always be booked and I won&#x27;t get to stay again.  This will be our first choice any time we are headed to NYC.  Thank you Christian for making our week in NYC a great one!\r",
       "<br>\r",
       "<br>Barb and Darrell Turner</td>\n",
       "        <td>A PRIVATE FLAT / APARTMENT- $SPECIAL$</td>\n",
       "        <td>Baychester</td>\n",
       "        <td>Allerton</td>\n",
       "        <td>10469</td>\n",
       "        <td>Guest suite</td>\n",
       "        <td>Entire home/apt</td>\n",
       "        <td>1.0</td>\n",
       "        <td>2.0</td>\n",
       "        <td>8</td>\n",
       "        <td>$125.00</td>\n",
       "        <td>295</td>\n",
       "        <td>35</td>\n",
       "        <td>93.0</td>\n",
       "        <td>10.0</td>\n",
       "        <td>2.93</td>\n",
       "    </tr>\n",
       "    <tr>\n",
       "        <td>182177</td>\n",
       "        <td>2011-09-19</td>\n",
       "        <td>I love this place! (which is why I have returned!). And I will for sure return if I visit the Bronx again! The Palacios&#x27; eagerness to understand a travellers needs is really amazing! If anyone tells you that NY is gonna eat you alive it&#x27;s because you haven&#x27;t had this place as your base! Compared to paying four times the price for a manhattan-place with less than half the size or comfort this is the best deal you can find! From the door you have less than an hour to the absolute most southern point of manhattan. </td>\n",
       "        <td>A PRIVATE FLAT / APARTMENT- $SPECIAL$</td>\n",
       "        <td>Baychester</td>\n",
       "        <td>Allerton</td>\n",
       "        <td>10469</td>\n",
       "        <td>Guest suite</td>\n",
       "        <td>Entire home/apt</td>\n",
       "        <td>1.0</td>\n",
       "        <td>2.0</td>\n",
       "        <td>8</td>\n",
       "        <td>$125.00</td>\n",
       "        <td>295</td>\n",
       "        <td>35</td>\n",
       "        <td>93.0</td>\n",
       "        <td>10.0</td>\n",
       "        <td>2.93</td>\n",
       "    </tr>\n",
       "    <tr>\n",
       "        <td>182177</td>\n",
       "        <td>2011-09-28</td>\n",
       "        <td>the house was an amazing place, christian and his family were so amazingly accommodating. We had troubles and they made them all go away!! thanks so much Jacky and Francisco, you were so helpful and nice. Perhaps the only issue is its distance from downtown manhattan where, as young students, there was most of the action. </td>\n",
       "        <td>A PRIVATE FLAT / APARTMENT- $SPECIAL$</td>\n",
       "        <td>Baychester</td>\n",
       "        <td>Allerton</td>\n",
       "        <td>10469</td>\n",
       "        <td>Guest suite</td>\n",
       "        <td>Entire home/apt</td>\n",
       "        <td>1.0</td>\n",
       "        <td>2.0</td>\n",
       "        <td>8</td>\n",
       "        <td>$125.00</td>\n",
       "        <td>295</td>\n",
       "        <td>35</td>\n",
       "        <td>93.0</td>\n",
       "        <td>10.0</td>\n",
       "        <td>2.93</td>\n",
       "    </tr>\n",
       "</table>"
      ],
      "text/plain": [
       "[(182177, '2011-09-04', 'This was my first time using airbnb and it was awesome.  Christian and his family are very accomodating and they responded quickly whenever my or I h ... (40 characters truncated) ... , and transportation was easily accessible.  The house had all the major necessites you would expect it to have.  Would definitely stay there again! ', 'A PRIVATE FLAT / APARTMENT- $SPECIAL$', 'Baychester', 'Allerton', '10469', 'Guest suite', 'Entire home/apt', 1.0, 2.0, 8, '$125.00', 295, 35, 93.0, 10.0, 2.93),\n",
       " (182177, '2011-09-05', \"Hey! This place is great! Easy to find and get to - better price and facilities than absolutely everything a reasonable  person can find in Manhatten. And a very generous host in Christian. I'd recommend this place to anyone! \", 'A PRIVATE FLAT / APARTMENT- $SPECIAL$', 'Baychester', 'Allerton', '10469', 'Guest suite', 'Entire home/apt', 1.0, 2.0, 8, '$125.00', 295, 35, 93.0, 10.0, 2.93),\n",
       " (182177, '2011-09-12', \"Our experience with Christian was wonderful.  He and his family were very accomodating.  The apartment was wonderful, perfect for a small family and  ... (412 characters truncated) ... s will be our first choice any time we are headed to NYC.  Thank you Christian for making our week in NYC a great one!\\r\\n\\r\\nBarb and Darrell Turner\", 'A PRIVATE FLAT / APARTMENT- $SPECIAL$', 'Baychester', 'Allerton', '10469', 'Guest suite', 'Entire home/apt', 1.0, 2.0, 8, '$125.00', 295, 35, 93.0, 10.0, 2.93),\n",
       " (182177, '2011-09-19', \"I love this place! (which is why I have returned!). And I will for sure return if I visit the Bronx again! The Palacios' eagerness to understand a tr ... (219 characters truncated) ... f the size or comfort this is the best deal you can find! From the door you have less than an hour to the absolute most southern point of manhattan. \", 'A PRIVATE FLAT / APARTMENT- $SPECIAL$', 'Baychester', 'Allerton', '10469', 'Guest suite', 'Entire home/apt', 1.0, 2.0, 8, '$125.00', 295, 35, 93.0, 10.0, 2.93),\n",
       " (182177, '2011-09-28', 'the house was an amazing place, christian and his family were so amazingly accommodating. We had troubles and they made them all go away!! thanks so  ... (26 characters truncated) ... you were so helpful and nice. Perhaps the only issue is its distance from downtown manhattan where, as young students, there was most of the action. ', 'A PRIVATE FLAT / APARTMENT- $SPECIAL$', 'Baychester', 'Allerton', '10469', 'Guest suite', 'Entire home/apt', 1.0, 2.0, 8, '$125.00', 295, 35, 93.0, 10.0, 2.93)]"
      ]
     },
     "execution_count": 2,
     "metadata": {},
     "output_type": "execute_result"
    }
   ],
   "source": [
    "%%sql\n",
    "select * from ListingsAndReviews\n",
    "order by accurate_neighbourhood\n",
    "limit 5;"
   ]
  },
  {
   "cell_type": "code",
   "execution_count": 5,
   "metadata": {},
   "outputs": [
    {
     "name": "stdout",
     "output_type": "stream",
     "text": [
      " * sqlite:///Data/airbnb.db\n",
      "Done.\n"
     ]
    },
    {
     "data": {
      "text/html": [
       "<table>\n",
       "    <tr>\n",
       "        <th>comments</th>\n",
       "    </tr>\n",
       "    <tr>\n",
       "        <td>This was my first time using airbnb and it was awesome.  Christian and his family are very accomodating and they responded quickly whenever my or I had a question.  The area was nice, quiet, and transportation was easily accessible.  The house had all the major necessites you would expect it to have.  Would definitely stay there again! </td>\n",
       "    </tr>\n",
       "    <tr>\n",
       "        <td>Hey! This place is great! Easy to find and get to - better price and facilities than absolutely everything a reasonable  person can find in Manhatten. And a very generous host in Christian. I&#x27;d recommend this place to anyone! </td>\n",
       "    </tr>\n",
       "    <tr>\n",
       "        <td>Our experience with Christian was wonderful.  He and his family were very accomodating.  The apartment was wonderful, perfect for a small family and would work well for a group of friends too.  Parking is excellent and the backyard is a special treat.  The house was just as it is pictured, very fresh and clean.  The neigborhood is fantastic, whether you want Chinese, Italian or simply some milk- all of it is within 2 minutes walking.  My only concern about leaving this review is that this apartment will always be booked and I won&#x27;t get to stay again.  This will be our first choice any time we are headed to NYC.  Thank you Christian for making our week in NYC a great one!\r",
       "<br>\r",
       "<br>Barb and Darrell Turner</td>\n",
       "    </tr>\n",
       "    <tr>\n",
       "        <td>I love this place! (which is why I have returned!). And I will for sure return if I visit the Bronx again! The Palacios&#x27; eagerness to understand a travellers needs is really amazing! If anyone tells you that NY is gonna eat you alive it&#x27;s because you haven&#x27;t had this place as your base! Compared to paying four times the price for a manhattan-place with less than half the size or comfort this is the best deal you can find! From the door you have less than an hour to the absolute most southern point of manhattan. </td>\n",
       "    </tr>\n",
       "    <tr>\n",
       "        <td>the house was an amazing place, christian and his family were so amazingly accommodating. We had troubles and they made them all go away!! thanks so much Jacky and Francisco, you were so helpful and nice. Perhaps the only issue is its distance from downtown manhattan where, as young students, there was most of the action. </td>\n",
       "    </tr>\n",
       "</table>"
      ],
      "text/plain": [
       "[('This was my first time using airbnb and it was awesome.  Christian and his family are very accomodating and they responded quickly whenever my or I h ... (40 characters truncated) ... , and transportation was easily accessible.  The house had all the major necessites you would expect it to have.  Would definitely stay there again! ',),\n",
       " (\"Hey! This place is great! Easy to find and get to - better price and facilities than absolutely everything a reasonable  person can find in Manhatten. And a very generous host in Christian. I'd recommend this place to anyone! \",),\n",
       " (\"Our experience with Christian was wonderful.  He and his family were very accomodating.  The apartment was wonderful, perfect for a small family and  ... (412 characters truncated) ... s will be our first choice any time we are headed to NYC.  Thank you Christian for making our week in NYC a great one!\\r\\n\\r\\nBarb and Darrell Turner\",),\n",
       " (\"I love this place! (which is why I have returned!). And I will for sure return if I visit the Bronx again! The Palacios' eagerness to understand a tr ... (219 characters truncated) ... f the size or comfort this is the best deal you can find! From the door you have less than an hour to the absolute most southern point of manhattan. \",),\n",
       " ('the house was an amazing place, christian and his family were so amazingly accommodating. We had troubles and they made them all go away!! thanks so  ... (26 characters truncated) ... you were so helpful and nice. Perhaps the only issue is its distance from downtown manhattan where, as young students, there was most of the action. ',)]"
      ]
     },
     "execution_count": 5,
     "metadata": {},
     "output_type": "execute_result"
    }
   ],
   "source": [
    "%%sql\n",
    "select comments from ListingsAndReviews\n",
    "where accurate_neighbourhood='Allerton'\n",
    "limit 5;"
   ]
  },
  {
   "cell_type": "code",
   "execution_count": 22,
   "metadata": {},
   "outputs": [
    {
     "name": "stdout",
     "output_type": "stream",
     "text": [
      " * sqlite:///Data/airbnb.db\n",
      "Done.\n"
     ]
    },
    {
     "data": {
      "text/html": [
       "<table>\n",
       "    <tr>\n",
       "        <th>accurate_neighbourhood</th>\n",
       "        <th>average_review</th>\n",
       "    </tr>\n",
       "    <tr>\n",
       "        <td>Allerton</td>\n",
       "        <td>92.44398530762167</td>\n",
       "    </tr>\n",
       "</table>"
      ],
      "text/plain": [
       "[('Allerton', 92.44398530762167)]"
      ]
     },
     "execution_count": 22,
     "metadata": {},
     "output_type": "execute_result"
    }
   ],
   "source": [
    "%%sql\n",
    "select accurate_neighbourhood, AVG(review_scores_rating) as average_review \n",
    "from ListingsAndReviews\n",
    "where accurate_neighbourhood = \"Allerton\"\n",
    "order by average_review desc;"
   ]
  },
  {
   "cell_type": "code",
   "execution_count": null,
   "metadata": {},
   "outputs": [],
   "source": []
  }
 ],
 "metadata": {
  "kernelspec": {
   "display_name": "Python 3",
   "language": "python",
   "name": "python3"
  },
  "language_info": {
   "codemirror_mode": {
    "name": "ipython",
    "version": 3
   },
   "file_extension": ".py",
   "mimetype": "text/x-python",
   "name": "python",
   "nbconvert_exporter": "python",
   "pygments_lexer": "ipython3",
   "version": "3.7.4"
  }
 },
 "nbformat": 4,
 "nbformat_minor": 2
}